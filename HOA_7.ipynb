{
  "nbformat": 4,
  "nbformat_minor": 0,
  "metadata": {
    "colab": {
      "provenance": [],
      "authorship_tag": "ABX9TyOVshKCCaL4YJzSXTs+2eQL",
      "include_colab_link": true
    },
    "kernelspec": {
      "name": "python3",
      "display_name": "Python 3"
    },
    "language_info": {
      "name": "python"
    }
  },
  "cells": [
    {
      "cell_type": "markdown",
      "metadata": {
        "id": "view-in-github",
        "colab_type": "text"
      },
      "source": [
        "<a href=\"https://colab.research.google.com/github/johnadornado/CPE-311/blob/main/HOA_7.ipynb\" target=\"_parent\"><img src=\"https://colab.research.google.com/assets/colab-badge.svg\" alt=\"Open In Colab\"/></a>"
      ]
    },
    {
      "cell_type": "markdown",
      "source": [
        "##Hands-on Activity 7.1 Data Collection and Wrangling\n",
        "\n",
        "Intended Learning Outcomes:\n",
        "\n",
        "Demonstrate how to gather sensor data, image data and voice data <br>\n",
        "Demonstrate how to gather data (text and images) from web<br>\n",
        "Demonstrate how to prepare data using different data preprocessing techniques<br>\n",
        "\n",
        "Resources:\n",
        "\n",
        "Personal Computer<br>\n",
        "Jupyter Notebook<br>\n",
        "Internet Connection<br>\n",
        "\n",
        "Instruction:\n",
        "\n",
        "Download the following datasets:  <br>Download aapl.csv, amzn.csv <br>Download amzn.csv, fb.csv <br>Download fb.csv, goog.csv <br>Download goog.csv, nflx.csv Download nflx.csv <br>\n",
        "Accomplish the notebook for this activity and submit as a pdf file: Data Wrangling HOA.pdf"
      ],
      "metadata": {
        "id": "rU6Z7yBEdtdN"
      }
    },
    {
      "cell_type": "code",
      "execution_count": null,
      "metadata": {
        "id": "q3zYnR4Ddfhn"
      },
      "outputs": [],
      "source": []
    }
  ]
}