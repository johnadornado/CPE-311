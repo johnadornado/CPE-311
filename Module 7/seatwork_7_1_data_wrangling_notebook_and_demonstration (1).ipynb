{
  "nbformat": 4,
  "nbformat_minor": 0,
  "metadata": {
    "colab": {
      "provenance": [],
      "authorship_tag": "ABX9TyMzxjQfLJc2OlHw0iBxxHSX",
      "include_colab_link": true
    },
    "kernelspec": {
      "name": "python3",
      "display_name": "Python 3"
    },
    "language_info": {
      "name": "python"
    }
  },
  "cells": [
    {
      "cell_type": "markdown",
      "metadata": {
        "id": "view-in-github",
        "colab_type": "text"
      },
      "source": [
        "<a href=\"https://colab.research.google.com/github/johnadornado/CPE-311/blob/main/seatwork_7_1_data_wrangling_notebook_and_demonstration.ipynb\" target=\"_parent\"><img src=\"https://colab.research.google.com/assets/colab-badge.svg\" alt=\"Open In Colab\"/></a>"
      ]
    },
    {
      "cell_type": "markdown",
      "source": [
        "#Collecting temperature data from an API <br>\n",
        "About the data\n",
        "In this notebook, we will be collecting daily temperature data from the National Centers for Environmental Information (NCEI) API. We will use the Global Historical Climatology\n",
        "Network - Daily (GHCND) data set; see the documentation here.\n",
        "Note: The NCEI is part of the National Oceanic and Atmospheric Administration (NOAA) and, as you can see from the URL for the API, this resource was created when the\n",
        "NCEI was called the NCDC. Should the URL for this resource change in the future, you can search for the NCEI weather API to find the updated one.\n",
        "\n"
      ],
      "metadata": {
        "id": "SVb8WtnG-c8Q"
      }
    },
    {
      "cell_type": "code",
      "execution_count": 30,
      "metadata": {
        "id": "7gjx021w-bGO"
      },
      "outputs": [],
      "source": [
        "import requests\n",
        "\n",
        "def make_request(endpoint, payload=None):\n",
        "    return requests.get(\n",
        "        f'https://www.ncdc.noaa.gov/cdo-web/api/v2/{endpoint}',\n",
        "        headers={\n",
        "            'token': 'noDjDKApOZFasfzNkXImPILOyscuRqEh'\n",
        "        },\n",
        "        params=payload\n",
        "    )\n",
        "\n"
      ]
    },
    {
      "cell_type": "markdown",
      "source": [
        "#See what datasets are available\n",
        "We can make requests to the datasets endpoint to see what datasets are available. We also pass in a dictionary for the payload to get datsets that have data after the start\n",
        "date of October 1, 2018.\n"
      ],
      "metadata": {
        "id": "lFJj7LHdTcgR"
      }
    },
    {
      "cell_type": "code",
      "source": [
        "# see what datasets are available\n",
        "response = make_request('datasets', {'startdate':'2018-10-01'})\n",
        "response.status_code"
      ],
      "metadata": {
        "id": "eiCRWUBzUb3l",
        "outputId": "5ee03f76-9561-42f4-f397-7ae2b7a502c1",
        "colab": {
          "base_uri": "https://localhost:8080/"
        }
      },
      "execution_count": 31,
      "outputs": [
        {
          "output_type": "execute_result",
          "data": {
            "text/plain": [
              "200"
            ]
          },
          "metadata": {},
          "execution_count": 31
        }
      ]
    },
    {
      "cell_type": "markdown",
      "source": [
        "#Get the keys of the result\n",
        "The result is a JSON object which we can access with the json() method of our Response object. JSON objects can be treated like dictionaries, so we can access the\n",
        "keys() just like we would a dictionary:"
      ],
      "metadata": {
        "id": "MWkWqUfKTfRK"
      }
    },
    {
      "cell_type": "code",
      "source": [
        "response.json().keys()\n"
      ],
      "metadata": {
        "id": "DniDm40-UeD-",
        "outputId": "8acad322-da40-444a-ed31-098c4b9efab9",
        "colab": {
          "base_uri": "https://localhost:8080/"
        }
      },
      "execution_count": 32,
      "outputs": [
        {
          "output_type": "execute_result",
          "data": {
            "text/plain": [
              "dict_keys(['metadata', 'results'])"
            ]
          },
          "metadata": {},
          "execution_count": 32
        }
      ]
    },
    {
      "cell_type": "code",
      "source": [
        "response.json()['metadata']\n"
      ],
      "metadata": {
        "id": "vM0nztfDUf2d",
        "outputId": "0db7a6d7-dc44-40c8-9554-8dc3dfce785c",
        "colab": {
          "base_uri": "https://localhost:8080/"
        }
      },
      "execution_count": 33,
      "outputs": [
        {
          "output_type": "execute_result",
          "data": {
            "text/plain": [
              "{'resultset': {'offset': 1, 'count': 11, 'limit': 25}}"
            ]
          },
          "metadata": {},
          "execution_count": 33
        }
      ]
    },
    {
      "cell_type": "markdown",
      "source": [
        "#Figure out what data is in the result\n",
        "The results key contains the data we requested. This is a list of what would be rows in our dataframe. Each entry in the list is a dictionary, so we can look at the keys to get\n",
        "the fields:"
      ],
      "metadata": {
        "id": "Z4zip6pFTjrV"
      }
    },
    {
      "cell_type": "code",
      "source": [
        "response.json()['results'][0].keys()"
      ],
      "metadata": {
        "id": "6HDEIfDTUjT0",
        "outputId": "1d4c3a35-e33c-4f8a-ba4f-ebc8f00afbef",
        "colab": {
          "base_uri": "https://localhost:8080/"
        }
      },
      "execution_count": 34,
      "outputs": [
        {
          "output_type": "execute_result",
          "data": {
            "text/plain": [
              "dict_keys(['uid', 'mindate', 'maxdate', 'name', 'datacoverage', 'id'])"
            ]
          },
          "metadata": {},
          "execution_count": 34
        }
      ]
    },
    {
      "cell_type": "markdown",
      "source": [
        "#Parse the result\n",
        "We don't want all those fields, so we will use a list comphrension to take only the id and name fields out:"
      ],
      "metadata": {
        "id": "-dRhIcsOTmVg"
      }
    },
    {
      "cell_type": "code",
      "source": [
        "[(data['id'], data['name']) for data in response.json()['results']]\n"
      ],
      "metadata": {
        "id": "bvv_gA-dUmos",
        "outputId": "2c41eccc-a5fd-4e06-e91d-7dcd18105aac",
        "colab": {
          "base_uri": "https://localhost:8080/"
        }
      },
      "execution_count": 35,
      "outputs": [
        {
          "output_type": "execute_result",
          "data": {
            "text/plain": [
              "[('GHCND', 'Daily Summaries'),\n",
              " ('GSOM', 'Global Summary of the Month'),\n",
              " ('GSOY', 'Global Summary of the Year'),\n",
              " ('NEXRAD2', 'Weather Radar (Level II)'),\n",
              " ('NEXRAD3', 'Weather Radar (Level III)'),\n",
              " ('NORMAL_ANN', 'Normals Annual/Seasonal'),\n",
              " ('NORMAL_DLY', 'Normals Daily'),\n",
              " ('NORMAL_HLY', 'Normals Hourly'),\n",
              " ('NORMAL_MLY', 'Normals Monthly'),\n",
              " ('PRECIP_15', 'Precipitation 15 Minute'),\n",
              " ('PRECIP_HLY', 'Precipitation Hourly')]"
            ]
          },
          "metadata": {},
          "execution_count": 35
        }
      ]
    },
    {
      "cell_type": "markdown",
      "source": [
        "#Figure out which data category we want\n",
        "The GHCND data containing daily summaries is what we want. Now we need to make another request to figure out which data categories we want to collect. This is the\n",
        "datacategories endpoint. We have to pass the datasetid for GHCND as the payload so the API knows which dataset we are asking about"
      ],
      "metadata": {
        "id": "kZ8ZuZEBTqJK"
      }
    },
    {
      "cell_type": "code",
      "source": [
        "# get data category id\n",
        "response = make_request(\n",
        " 'datacategories',\n",
        " payload={\n",
        " 'datasetid' : 'GHCND'\n",
        " }\n",
        ")\n",
        "response.status_code"
      ],
      "metadata": {
        "id": "4XhXYGBQUpNz",
        "outputId": "cea13f66-9658-442e-c415-ec7468d55a0b",
        "colab": {
          "base_uri": "https://localhost:8080/"
        }
      },
      "execution_count": 36,
      "outputs": [
        {
          "output_type": "execute_result",
          "data": {
            "text/plain": [
              "200"
            ]
          },
          "metadata": {},
          "execution_count": 36
        }
      ]
    },
    {
      "cell_type": "code",
      "source": [
        "response.json()['results']"
      ],
      "metadata": {
        "id": "yOEbbqGMUtOT",
        "outputId": "5a65da90-8186-4288-ba1a-9e71790f68d1",
        "colab": {
          "base_uri": "https://localhost:8080/"
        }
      },
      "execution_count": 37,
      "outputs": [
        {
          "output_type": "execute_result",
          "data": {
            "text/plain": [
              "[{'name': 'Evaporation', 'id': 'EVAP'},\n",
              " {'name': 'Land', 'id': 'LAND'},\n",
              " {'name': 'Precipitation', 'id': 'PRCP'},\n",
              " {'name': 'Sky cover & clouds', 'id': 'SKY'},\n",
              " {'name': 'Sunshine', 'id': 'SUN'},\n",
              " {'name': 'Air Temperature', 'id': 'TEMP'},\n",
              " {'name': 'Water', 'id': 'WATER'},\n",
              " {'name': 'Wind', 'id': 'WIND'},\n",
              " {'name': 'Weather Type', 'id': 'WXTYPE'}]"
            ]
          },
          "metadata": {},
          "execution_count": 37
        }
      ]
    },
    {
      "cell_type": "markdown",
      "source": [
        "#Grab the data type ID for the Temperature category\n",
        "We will be working with temperatures, so we want the TEMP data category. Now, we need to find the datatypes to collect. For this, we use the datatypes endpoint and\n",
        "provide the datacategoryid which was TEMP . We also specify a limit for the number of datatypes to return with the payload. If there are more than this we can make\n",
        "another request later, but for now, we just want to pick a few ou"
      ],
      "metadata": {
        "id": "utY8GH36Tsvh"
      }
    },
    {
      "cell_type": "code",
      "source": [
        "# get data type id\n",
        "response = make_request(\n",
        " 'datatypes',\n",
        " payload={\n",
        " 'datacategoryid' : 'TEMP',\n",
        " 'limit' : 100\n",
        " }\n",
        ")\n",
        "response.status_code"
      ],
      "metadata": {
        "id": "zok3lHBtUylK",
        "outputId": "589572af-dfec-4e3e-c827-e3404d1fb151",
        "colab": {
          "base_uri": "https://localhost:8080/"
        }
      },
      "execution_count": 38,
      "outputs": [
        {
          "output_type": "execute_result",
          "data": {
            "text/plain": [
              "200"
            ]
          },
          "metadata": {},
          "execution_count": 38
        }
      ]
    },
    {
      "cell_type": "code",
      "source": [
        "[(datatype['id'], datatype['name']) for datatype in response.json()['results']][-5:] # look at the last 5\n"
      ],
      "metadata": {
        "id": "XcbK6EpEU2VJ",
        "outputId": "56300ca8-c712-41d2-ecc0-fdec3466376f",
        "colab": {
          "base_uri": "https://localhost:8080/"
        }
      },
      "execution_count": 39,
      "outputs": [
        {
          "output_type": "execute_result",
          "data": {
            "text/plain": [
              "[('MNTM', 'Monthly mean temperature'),\n",
              " ('TAVG', 'Average Temperature.'),\n",
              " ('TMAX', 'Maximum temperature'),\n",
              " ('TMIN', 'Minimum temperature'),\n",
              " ('TOBS', 'Temperature at the time of observation')]"
            ]
          },
          "metadata": {},
          "execution_count": 39
        }
      ]
    },
    {
      "cell_type": "markdown",
      "source": [
        "#Determine which Location Category we want\n",
        "Now that we know which datatypes we will be collecting, we need to find the location to use. First, we need to figure out the location category. This is obtained from the\n",
        "locationcategories endpoint by passing the datasetid :\n"
      ],
      "metadata": {
        "id": "odzUQAXmTxgg"
      }
    },
    {
      "cell_type": "code",
      "source": [
        "# get location category id\n",
        "response = make_request(\n",
        " 'locationcategories',\n",
        " {\n",
        " 'datasetid' : 'GHCND'\n",
        " }\n",
        ")\n",
        "response.status_code"
      ],
      "metadata": {
        "id": "adYB5MU1U5Xx",
        "outputId": "cde26a65-7d9a-4216-af44-dd398684e173",
        "colab": {
          "base_uri": "https://localhost:8080/"
        }
      },
      "execution_count": 40,
      "outputs": [
        {
          "output_type": "execute_result",
          "data": {
            "text/plain": [
              "200"
            ]
          },
          "metadata": {},
          "execution_count": 40
        }
      ]
    },
    {
      "cell_type": "code",
      "source": [
        "import pprint\n",
        "pprint.pprint(response.json())"
      ],
      "metadata": {
        "id": "5A_XukrtU9Wg",
        "outputId": "46458ae9-5735-4465-ed20-a290c1dd3742",
        "colab": {
          "base_uri": "https://localhost:8080/"
        }
      },
      "execution_count": 41,
      "outputs": [
        {
          "output_type": "stream",
          "name": "stdout",
          "text": [
            "{'metadata': {'resultset': {'count': 12, 'limit': 25, 'offset': 1}},\n",
            " 'results': [{'id': 'CITY', 'name': 'City'},\n",
            "             {'id': 'CLIM_DIV', 'name': 'Climate Division'},\n",
            "             {'id': 'CLIM_REG', 'name': 'Climate Region'},\n",
            "             {'id': 'CNTRY', 'name': 'Country'},\n",
            "             {'id': 'CNTY', 'name': 'County'},\n",
            "             {'id': 'HYD_ACC', 'name': 'Hydrologic Accounting Unit'},\n",
            "             {'id': 'HYD_CAT', 'name': 'Hydrologic Cataloging Unit'},\n",
            "             {'id': 'HYD_REG', 'name': 'Hydrologic Region'},\n",
            "             {'id': 'HYD_SUB', 'name': 'Hydrologic Subregion'},\n",
            "             {'id': 'ST', 'name': 'State'},\n",
            "             {'id': 'US_TERR', 'name': 'US Territory'},\n",
            "             {'id': 'ZIP', 'name': 'Zip Code'}]}\n"
          ]
        }
      ]
    },
    {
      "cell_type": "markdown",
      "source": [
        "#Get NYC Location ID\n",
        "In order to find the location ID for New York, we need to search through all the cities available. Since we can ask the API to return the cities sorted, we can use binary search\n",
        "to find New York quickly without having to make many requests or request lots of data at once. The following function makes the first request to see how big the list of cities\n",
        "is and looks at the first value. From there it decides if it needs to move towards the beginning or end of the list by comparing the city we are looking for to others\n",
        "alphabetically. Each time it makes a request it can rule out half of the remaining data to search.\n"
      ],
      "metadata": {
        "id": "aevw1SUDT1if"
      }
    },
    {
      "cell_type": "code",
      "source": [
        "def get_item(name, what, endpoint, start=1, end=None):\n",
        "\n",
        "    # find the midpoint which we use to cut the data in half each time\n",
        "    mid = (start + (end if end else 1)) // 2\n",
        "\n",
        "    # lowercase the name so this is not case-sensitive\n",
        "    name = name.lower()\n",
        "\n",
        "    # define the payload we will send with each request\n",
        "    payload = {\n",
        "        'datasetid': 'GHCND',\n",
        "        'sortfield': 'name',\n",
        "        'offset': mid,  # we will change the offset each time\n",
        "        'limit': 1  # we only want one value back\n",
        "    }\n",
        "\n",
        "    # make our request adding any additional filter parameters from `what`\n",
        "    response = make_request(endpoint, {**payload, **what})\n",
        "\n",
        "    if response.ok:\n",
        "        # if response is ok, grab the end index from the response metadata the first time through\n",
        "        end = end if end else response.json()['metadata']['resultset']['count']\n",
        "\n",
        "        # grab the lowercase version of the current name\n",
        "        current_name = response.json()['results'][0]['name'].lower()\n",
        "\n",
        "        # if what we are searching for is in the current name, we have found our item\n",
        "        if name in current_name:\n",
        "            return response.json()['results'][0]  # return the found item\n",
        "        else:\n",
        "            if start >= end:\n",
        "                # if our start index is greater than or equal to our end, we couldn't find it\n",
        "                return {}\n",
        "            elif name < current_name:\n",
        "                # our name comes before the current name in the alphabet, so we search further to the left\n",
        "                return get_item(name, what, endpoint, start, mid - 1)\n",
        "            elif name > current_name:\n",
        "                # our name comes after the current name in the alphabet, so we search further to the right\n",
        "                return get_item(name, what, endpoint, mid + 1, end)\n",
        "    else:\n",
        "        # response wasn't ok, use code to determine why\n",
        "        print(f'Response not OK, status: {response.status_code}')\n",
        "        return {}\n",
        "\n",
        "def get_location(name):\n",
        "    return get_item(name, {'locationcategoryid' : 'CITY'}, 'locations')\n"
      ],
      "metadata": {
        "id": "j3b6FXW6U-83"
      },
      "execution_count": 42,
      "outputs": []
    },
    {
      "cell_type": "markdown",
      "source": [
        "When we use binary search to find New York, we find it in just 8 requests despite it being close to the middle of 1,983 entries:\n"
      ],
      "metadata": {
        "id": "Mqtr5flxT7ec"
      }
    },
    {
      "cell_type": "code",
      "source": [
        "# get NYC id\n",
        "nyc = get_location('New York')\n",
        "nyc\n"
      ],
      "metadata": {
        "id": "tjBTlVqlVTsd",
        "outputId": "b187005e-0c90-4f5d-fd9e-90bc084cd6b3",
        "colab": {
          "base_uri": "https://localhost:8080/"
        }
      },
      "execution_count": 43,
      "outputs": [
        {
          "output_type": "execute_result",
          "data": {
            "text/plain": [
              "{'mindate': '1869-01-01',\n",
              " 'maxdate': '2024-03-15',\n",
              " 'name': 'New York, NY US',\n",
              " 'datacoverage': 1,\n",
              " 'id': 'CITY:US360019'}"
            ]
          },
          "metadata": {},
          "execution_count": 43
        }
      ]
    },
    {
      "cell_type": "markdown",
      "source": [
        "# Get the station ID for Central Park\n",
        "The most granular data is found at the station level:\n"
      ],
      "metadata": {
        "id": "w6HIBK0HT-Xd"
      }
    },
    {
      "cell_type": "code",
      "source": [
        "central_park = get_item('NY City Central Park', {'locationid' : nyc['id']}, 'stations')\n",
        "central_park"
      ],
      "metadata": {
        "id": "tqPorOXKVYMb",
        "outputId": "063ac12a-05c2-4f3f-ef95-ede25af2ef6a",
        "colab": {
          "base_uri": "https://localhost:8080/"
        }
      },
      "execution_count": 44,
      "outputs": [
        {
          "output_type": "execute_result",
          "data": {
            "text/plain": [
              "{'elevation': 42.7,\n",
              " 'mindate': '1869-01-01',\n",
              " 'maxdate': '2024-03-14',\n",
              " 'latitude': 40.77898,\n",
              " 'name': 'NY CITY CENTRAL PARK, NY US',\n",
              " 'datacoverage': 1,\n",
              " 'id': 'GHCND:USW00094728',\n",
              " 'elevationUnit': 'METERS',\n",
              " 'longitude': -73.96925}"
            ]
          },
          "metadata": {},
          "execution_count": 44
        }
      ]
    },
    {
      "cell_type": "markdown",
      "source": [
        "# Request the temperature data\n",
        "Finally, we have everything we need to make our request for the New York temperature data. For this we use the data endpoint and provide all the parameters we picked up\n",
        "throughout our exploration of the API"
      ],
      "metadata": {
        "id": "dBnonkRPUJLS"
      }
    },
    {
      "cell_type": "code",
      "source": [
        "# get NYC daily summaries data\n",
        "response = make_request(\n",
        " 'data',\n",
        " {\n",
        " 'datasetid' : 'GHCND',\n",
        " 'stationid' : central_park['id'],\n",
        " 'locationid' : nyc['id'],\n",
        " 'startdate' : '2018-10-01',\n",
        " 'enddate' : '2018-10-31',\n",
        " 'datatypeid' : ['TMIN', 'TMAX', 'TOBS'], # temperature at time of observation, min, and max\n",
        " 'units' : 'metric',\n",
        " 'limit' : 1000\n",
        " }\n",
        ")\n",
        "response.status_code"
      ],
      "metadata": {
        "id": "GnBSqlLXVbcL",
        "outputId": "2ebe787c-8dad-495f-819a-f06a2e80fae7",
        "colab": {
          "base_uri": "https://localhost:8080/"
        }
      },
      "execution_count": 45,
      "outputs": [
        {
          "output_type": "execute_result",
          "data": {
            "text/plain": [
              "200"
            ]
          },
          "metadata": {},
          "execution_count": 45
        }
      ]
    },
    {
      "cell_type": "markdown",
      "source": [
        "# Create a DataFrame\n",
        "The Central Park station only has the daily minimum and maximum temperatures"
      ],
      "metadata": {
        "id": "QPvFelkeUQwC"
      }
    },
    {
      "cell_type": "code",
      "source": [
        "import pandas as pd\n",
        "df = pd.DataFrame(response.json()['results'])\n",
        "df.head()\n"
      ],
      "metadata": {
        "id": "mc8JhOGgVeBi",
        "outputId": "4f77d31e-9899-4bb5-a7b2-a0ba02f11b78",
        "colab": {
          "base_uri": "https://localhost:8080/",
          "height": 206
        }
      },
      "execution_count": 46,
      "outputs": [
        {
          "output_type": "execute_result",
          "data": {
            "text/plain": [
              "                  date datatype            station attributes  value\n",
              "0  2018-10-01T00:00:00     TMAX  GHCND:USW00094728   ,,W,2400   24.4\n",
              "1  2018-10-01T00:00:00     TMIN  GHCND:USW00094728   ,,W,2400   17.2\n",
              "2  2018-10-02T00:00:00     TMAX  GHCND:USW00094728   ,,W,2400   25.0\n",
              "3  2018-10-02T00:00:00     TMIN  GHCND:USW00094728   ,,W,2400   18.3\n",
              "4  2018-10-03T00:00:00     TMAX  GHCND:USW00094728   ,,W,2400   23.3"
            ],
            "text/html": [
              "\n",
              "  <div id=\"df-47774cec-c91c-4961-817d-57a1785e6fc4\" class=\"colab-df-container\">\n",
              "    <div>\n",
              "<style scoped>\n",
              "    .dataframe tbody tr th:only-of-type {\n",
              "        vertical-align: middle;\n",
              "    }\n",
              "\n",
              "    .dataframe tbody tr th {\n",
              "        vertical-align: top;\n",
              "    }\n",
              "\n",
              "    .dataframe thead th {\n",
              "        text-align: right;\n",
              "    }\n",
              "</style>\n",
              "<table border=\"1\" class=\"dataframe\">\n",
              "  <thead>\n",
              "    <tr style=\"text-align: right;\">\n",
              "      <th></th>\n",
              "      <th>date</th>\n",
              "      <th>datatype</th>\n",
              "      <th>station</th>\n",
              "      <th>attributes</th>\n",
              "      <th>value</th>\n",
              "    </tr>\n",
              "  </thead>\n",
              "  <tbody>\n",
              "    <tr>\n",
              "      <th>0</th>\n",
              "      <td>2018-10-01T00:00:00</td>\n",
              "      <td>TMAX</td>\n",
              "      <td>GHCND:USW00094728</td>\n",
              "      <td>,,W,2400</td>\n",
              "      <td>24.4</td>\n",
              "    </tr>\n",
              "    <tr>\n",
              "      <th>1</th>\n",
              "      <td>2018-10-01T00:00:00</td>\n",
              "      <td>TMIN</td>\n",
              "      <td>GHCND:USW00094728</td>\n",
              "      <td>,,W,2400</td>\n",
              "      <td>17.2</td>\n",
              "    </tr>\n",
              "    <tr>\n",
              "      <th>2</th>\n",
              "      <td>2018-10-02T00:00:00</td>\n",
              "      <td>TMAX</td>\n",
              "      <td>GHCND:USW00094728</td>\n",
              "      <td>,,W,2400</td>\n",
              "      <td>25.0</td>\n",
              "    </tr>\n",
              "    <tr>\n",
              "      <th>3</th>\n",
              "      <td>2018-10-02T00:00:00</td>\n",
              "      <td>TMIN</td>\n",
              "      <td>GHCND:USW00094728</td>\n",
              "      <td>,,W,2400</td>\n",
              "      <td>18.3</td>\n",
              "    </tr>\n",
              "    <tr>\n",
              "      <th>4</th>\n",
              "      <td>2018-10-03T00:00:00</td>\n",
              "      <td>TMAX</td>\n",
              "      <td>GHCND:USW00094728</td>\n",
              "      <td>,,W,2400</td>\n",
              "      <td>23.3</td>\n",
              "    </tr>\n",
              "  </tbody>\n",
              "</table>\n",
              "</div>\n",
              "    <div class=\"colab-df-buttons\">\n",
              "\n",
              "  <div class=\"colab-df-container\">\n",
              "    <button class=\"colab-df-convert\" onclick=\"convertToInteractive('df-47774cec-c91c-4961-817d-57a1785e6fc4')\"\n",
              "            title=\"Convert this dataframe to an interactive table.\"\n",
              "            style=\"display:none;\">\n",
              "\n",
              "  <svg xmlns=\"http://www.w3.org/2000/svg\" height=\"24px\" viewBox=\"0 -960 960 960\">\n",
              "    <path d=\"M120-120v-720h720v720H120Zm60-500h600v-160H180v160Zm220 220h160v-160H400v160Zm0 220h160v-160H400v160ZM180-400h160v-160H180v160Zm440 0h160v-160H620v160ZM180-180h160v-160H180v160Zm440 0h160v-160H620v160Z\"/>\n",
              "  </svg>\n",
              "    </button>\n",
              "\n",
              "  <style>\n",
              "    .colab-df-container {\n",
              "      display:flex;\n",
              "      gap: 12px;\n",
              "    }\n",
              "\n",
              "    .colab-df-convert {\n",
              "      background-color: #E8F0FE;\n",
              "      border: none;\n",
              "      border-radius: 50%;\n",
              "      cursor: pointer;\n",
              "      display: none;\n",
              "      fill: #1967D2;\n",
              "      height: 32px;\n",
              "      padding: 0 0 0 0;\n",
              "      width: 32px;\n",
              "    }\n",
              "\n",
              "    .colab-df-convert:hover {\n",
              "      background-color: #E2EBFA;\n",
              "      box-shadow: 0px 1px 2px rgba(60, 64, 67, 0.3), 0px 1px 3px 1px rgba(60, 64, 67, 0.15);\n",
              "      fill: #174EA6;\n",
              "    }\n",
              "\n",
              "    .colab-df-buttons div {\n",
              "      margin-bottom: 4px;\n",
              "    }\n",
              "\n",
              "    [theme=dark] .colab-df-convert {\n",
              "      background-color: #3B4455;\n",
              "      fill: #D2E3FC;\n",
              "    }\n",
              "\n",
              "    [theme=dark] .colab-df-convert:hover {\n",
              "      background-color: #434B5C;\n",
              "      box-shadow: 0px 1px 3px 1px rgba(0, 0, 0, 0.15);\n",
              "      filter: drop-shadow(0px 1px 2px rgba(0, 0, 0, 0.3));\n",
              "      fill: #FFFFFF;\n",
              "    }\n",
              "  </style>\n",
              "\n",
              "    <script>\n",
              "      const buttonEl =\n",
              "        document.querySelector('#df-47774cec-c91c-4961-817d-57a1785e6fc4 button.colab-df-convert');\n",
              "      buttonEl.style.display =\n",
              "        google.colab.kernel.accessAllowed ? 'block' : 'none';\n",
              "\n",
              "      async function convertToInteractive(key) {\n",
              "        const element = document.querySelector('#df-47774cec-c91c-4961-817d-57a1785e6fc4');\n",
              "        const dataTable =\n",
              "          await google.colab.kernel.invokeFunction('convertToInteractive',\n",
              "                                                    [key], {});\n",
              "        if (!dataTable) return;\n",
              "\n",
              "        const docLinkHtml = 'Like what you see? Visit the ' +\n",
              "          '<a target=\"_blank\" href=https://colab.research.google.com/notebooks/data_table.ipynb>data table notebook</a>'\n",
              "          + ' to learn more about interactive tables.';\n",
              "        element.innerHTML = '';\n",
              "        dataTable['output_type'] = 'display_data';\n",
              "        await google.colab.output.renderOutput(dataTable, element);\n",
              "        const docLink = document.createElement('div');\n",
              "        docLink.innerHTML = docLinkHtml;\n",
              "        element.appendChild(docLink);\n",
              "      }\n",
              "    </script>\n",
              "  </div>\n",
              "\n",
              "\n",
              "<div id=\"df-8eebf368-8750-4c68-87db-ce5f4605085f\">\n",
              "  <button class=\"colab-df-quickchart\" onclick=\"quickchart('df-8eebf368-8750-4c68-87db-ce5f4605085f')\"\n",
              "            title=\"Suggest charts\"\n",
              "            style=\"display:none;\">\n",
              "\n",
              "<svg xmlns=\"http://www.w3.org/2000/svg\" height=\"24px\"viewBox=\"0 0 24 24\"\n",
              "     width=\"24px\">\n",
              "    <g>\n",
              "        <path d=\"M19 3H5c-1.1 0-2 .9-2 2v14c0 1.1.9 2 2 2h14c1.1 0 2-.9 2-2V5c0-1.1-.9-2-2-2zM9 17H7v-7h2v7zm4 0h-2V7h2v10zm4 0h-2v-4h2v4z\"/>\n",
              "    </g>\n",
              "</svg>\n",
              "  </button>\n",
              "\n",
              "<style>\n",
              "  .colab-df-quickchart {\n",
              "      --bg-color: #E8F0FE;\n",
              "      --fill-color: #1967D2;\n",
              "      --hover-bg-color: #E2EBFA;\n",
              "      --hover-fill-color: #174EA6;\n",
              "      --disabled-fill-color: #AAA;\n",
              "      --disabled-bg-color: #DDD;\n",
              "  }\n",
              "\n",
              "  [theme=dark] .colab-df-quickchart {\n",
              "      --bg-color: #3B4455;\n",
              "      --fill-color: #D2E3FC;\n",
              "      --hover-bg-color: #434B5C;\n",
              "      --hover-fill-color: #FFFFFF;\n",
              "      --disabled-bg-color: #3B4455;\n",
              "      --disabled-fill-color: #666;\n",
              "  }\n",
              "\n",
              "  .colab-df-quickchart {\n",
              "    background-color: var(--bg-color);\n",
              "    border: none;\n",
              "    border-radius: 50%;\n",
              "    cursor: pointer;\n",
              "    display: none;\n",
              "    fill: var(--fill-color);\n",
              "    height: 32px;\n",
              "    padding: 0;\n",
              "    width: 32px;\n",
              "  }\n",
              "\n",
              "  .colab-df-quickchart:hover {\n",
              "    background-color: var(--hover-bg-color);\n",
              "    box-shadow: 0 1px 2px rgba(60, 64, 67, 0.3), 0 1px 3px 1px rgba(60, 64, 67, 0.15);\n",
              "    fill: var(--button-hover-fill-color);\n",
              "  }\n",
              "\n",
              "  .colab-df-quickchart-complete:disabled,\n",
              "  .colab-df-quickchart-complete:disabled:hover {\n",
              "    background-color: var(--disabled-bg-color);\n",
              "    fill: var(--disabled-fill-color);\n",
              "    box-shadow: none;\n",
              "  }\n",
              "\n",
              "  .colab-df-spinner {\n",
              "    border: 2px solid var(--fill-color);\n",
              "    border-color: transparent;\n",
              "    border-bottom-color: var(--fill-color);\n",
              "    animation:\n",
              "      spin 1s steps(1) infinite;\n",
              "  }\n",
              "\n",
              "  @keyframes spin {\n",
              "    0% {\n",
              "      border-color: transparent;\n",
              "      border-bottom-color: var(--fill-color);\n",
              "      border-left-color: var(--fill-color);\n",
              "    }\n",
              "    20% {\n",
              "      border-color: transparent;\n",
              "      border-left-color: var(--fill-color);\n",
              "      border-top-color: var(--fill-color);\n",
              "    }\n",
              "    30% {\n",
              "      border-color: transparent;\n",
              "      border-left-color: var(--fill-color);\n",
              "      border-top-color: var(--fill-color);\n",
              "      border-right-color: var(--fill-color);\n",
              "    }\n",
              "    40% {\n",
              "      border-color: transparent;\n",
              "      border-right-color: var(--fill-color);\n",
              "      border-top-color: var(--fill-color);\n",
              "    }\n",
              "    60% {\n",
              "      border-color: transparent;\n",
              "      border-right-color: var(--fill-color);\n",
              "    }\n",
              "    80% {\n",
              "      border-color: transparent;\n",
              "      border-right-color: var(--fill-color);\n",
              "      border-bottom-color: var(--fill-color);\n",
              "    }\n",
              "    90% {\n",
              "      border-color: transparent;\n",
              "      border-bottom-color: var(--fill-color);\n",
              "    }\n",
              "  }\n",
              "</style>\n",
              "\n",
              "  <script>\n",
              "    async function quickchart(key) {\n",
              "      const quickchartButtonEl =\n",
              "        document.querySelector('#' + key + ' button');\n",
              "      quickchartButtonEl.disabled = true;  // To prevent multiple clicks.\n",
              "      quickchartButtonEl.classList.add('colab-df-spinner');\n",
              "      try {\n",
              "        const charts = await google.colab.kernel.invokeFunction(\n",
              "            'suggestCharts', [key], {});\n",
              "      } catch (error) {\n",
              "        console.error('Error during call to suggestCharts:', error);\n",
              "      }\n",
              "      quickchartButtonEl.classList.remove('colab-df-spinner');\n",
              "      quickchartButtonEl.classList.add('colab-df-quickchart-complete');\n",
              "    }\n",
              "    (() => {\n",
              "      let quickchartButtonEl =\n",
              "        document.querySelector('#df-8eebf368-8750-4c68-87db-ce5f4605085f button');\n",
              "      quickchartButtonEl.style.display =\n",
              "        google.colab.kernel.accessAllowed ? 'block' : 'none';\n",
              "    })();\n",
              "  </script>\n",
              "</div>\n",
              "    </div>\n",
              "  </div>\n"
            ],
            "application/vnd.google.colaboratory.intrinsic+json": {
              "type": "dataframe",
              "variable_name": "df",
              "summary": "{\n  \"name\": \"df\",\n  \"rows\": 62,\n  \"fields\": [\n    {\n      \"column\": \"date\",\n      \"properties\": {\n        \"dtype\": \"object\",\n        \"num_unique_values\": 31,\n        \"samples\": [\n          \"2018-10-28T00:00:00\",\n          \"2018-10-16T00:00:00\",\n          \"2018-10-24T00:00:00\"\n        ],\n        \"semantic_type\": \"\",\n        \"description\": \"\"\n      }\n    },\n    {\n      \"column\": \"datatype\",\n      \"properties\": {\n        \"dtype\": \"category\",\n        \"num_unique_values\": 2,\n        \"samples\": [\n          \"TMIN\",\n          \"TMAX\"\n        ],\n        \"semantic_type\": \"\",\n        \"description\": \"\"\n      }\n    },\n    {\n      \"column\": \"station\",\n      \"properties\": {\n        \"dtype\": \"category\",\n        \"num_unique_values\": 1,\n        \"samples\": [\n          \"GHCND:USW00094728\"\n        ],\n        \"semantic_type\": \"\",\n        \"description\": \"\"\n      }\n    },\n    {\n      \"column\": \"attributes\",\n      \"properties\": {\n        \"dtype\": \"category\",\n        \"num_unique_values\": 1,\n        \"samples\": [\n          \",,W,2400\"\n        ],\n        \"semantic_type\": \"\",\n        \"description\": \"\"\n      }\n    },\n    {\n      \"column\": \"value\",\n      \"properties\": {\n        \"dtype\": \"number\",\n        \"std\": 6.573912032246916,\n        \"min\": 3.3,\n        \"max\": 26.7,\n        \"num_unique_values\": 33,\n        \"samples\": [\n          7.2\n        ],\n        \"semantic_type\": \"\",\n        \"description\": \"\"\n      }\n    }\n  ]\n}"
            }
          },
          "metadata": {},
          "execution_count": 46
        }
      ]
    },
    {
      "cell_type": "code",
      "source": [
        "df.datatype.unique()\n"
      ],
      "metadata": {
        "id": "eMUHkaZsVgtR",
        "outputId": "df92a7d0-5549-415c-8435-15a9789c6218",
        "colab": {
          "base_uri": "https://localhost:8080/"
        }
      },
      "execution_count": 47,
      "outputs": [
        {
          "output_type": "execute_result",
          "data": {
            "text/plain": [
              "array(['TMAX', 'TMIN'], dtype=object)"
            ]
          },
          "metadata": {},
          "execution_count": 47
        }
      ]
    },
    {
      "cell_type": "code",
      "source": [
        "if get_item(\n",
        " 'NY City Central Park', {'locationid' : nyc['id'], 'datatypeid': 'TOBS'}, 'stations'\n",
        "):\n",
        " print('Found!')\n"
      ],
      "metadata": {
        "id": "392_84qsVkLM",
        "outputId": "f433de36-ad89-4d9a-8467-fefb865387dc",
        "colab": {
          "base_uri": "https://localhost:8080/"
        }
      },
      "execution_count": 48,
      "outputs": [
        {
          "output_type": "stream",
          "name": "stdout",
          "text": [
            "Found!\n"
          ]
        }
      ]
    },
    {
      "cell_type": "markdown",
      "source": [
        "# Using a different station\n",
        "Let's use LaGuardia airport instead. It contains TAVG (average daily temperature):"
      ],
      "metadata": {
        "id": "QxXc1kcOUTix"
      }
    },
    {
      "cell_type": "code",
      "source": [
        "laguardia = get_item(\n",
        " 'LaGuardia', {'locationid' : nyc['id']}, 'stations'\n",
        ")\n",
        "laguardia"
      ],
      "metadata": {
        "id": "uyoAodJ4VnG4",
        "outputId": "01b58d32-ecea-44c3-de6e-3d8a8284ced4",
        "colab": {
          "base_uri": "https://localhost:8080/"
        }
      },
      "execution_count": 49,
      "outputs": [
        {
          "output_type": "execute_result",
          "data": {
            "text/plain": [
              "{'elevation': 3,\n",
              " 'mindate': '1939-10-07',\n",
              " 'maxdate': '2024-03-15',\n",
              " 'latitude': 40.77945,\n",
              " 'name': 'LAGUARDIA AIRPORT, NY US',\n",
              " 'datacoverage': 1,\n",
              " 'id': 'GHCND:USW00014732',\n",
              " 'elevationUnit': 'METERS',\n",
              " 'longitude': -73.88027}"
            ]
          },
          "metadata": {},
          "execution_count": 49
        }
      ]
    },
    {
      "cell_type": "code",
      "source": [
        "# get NYC daily summaries data\n",
        "response = make_request(\n",
        " 'data',\n",
        " {\n",
        " 'datasetid' : 'GHCND',\n",
        " 'stationid' : laguardia['id'],\n",
        " 'locationid' : nyc['id'],\n",
        " 'startdate' : '2018-10-01',\n",
        " 'enddate' : '2018-10-31',\n",
        " 'datatypeid' : ['TMIN', 'TMAX', 'TAVG'], # temperature at time of observation, min, and max\n",
        " 'units' : 'metric',\n",
        " 'limit' : 1000\n",
        " }\n",
        ")\n",
        "response.status_code\n"
      ],
      "metadata": {
        "id": "N5PCzIhtVpSK",
        "outputId": "34553014-d7da-4466-e26b-c42b5cc34670",
        "colab": {
          "base_uri": "https://localhost:8080/"
        }
      },
      "execution_count": 50,
      "outputs": [
        {
          "output_type": "execute_result",
          "data": {
            "text/plain": [
              "200"
            ]
          },
          "metadata": {},
          "execution_count": 50
        }
      ]
    },
    {
      "cell_type": "code",
      "source": [
        "df = pd.DataFrame(response.json()['results'])\n",
        "df.head()"
      ],
      "metadata": {
        "id": "mqD8dNWrV1f2",
        "outputId": "2efb5e35-aa82-4013-8237-974ea67dde33",
        "colab": {
          "base_uri": "https://localhost:8080/",
          "height": 206
        }
      },
      "execution_count": 51,
      "outputs": [
        {
          "output_type": "execute_result",
          "data": {
            "text/plain": [
              "                  date datatype            station attributes  value\n",
              "0  2018-10-01T00:00:00     TAVG  GHCND:USW00014732      H,,S,   21.2\n",
              "1  2018-10-01T00:00:00     TMAX  GHCND:USW00014732   ,,W,2400   25.6\n",
              "2  2018-10-01T00:00:00     TMIN  GHCND:USW00014732   ,,W,2400   18.3\n",
              "3  2018-10-02T00:00:00     TAVG  GHCND:USW00014732      H,,S,   22.7\n",
              "4  2018-10-02T00:00:00     TMAX  GHCND:USW00014732   ,,W,2400   26.1"
            ],
            "text/html": [
              "\n",
              "  <div id=\"df-cdc19b20-1d28-45cd-a11e-e4b6b97313cd\" class=\"colab-df-container\">\n",
              "    <div>\n",
              "<style scoped>\n",
              "    .dataframe tbody tr th:only-of-type {\n",
              "        vertical-align: middle;\n",
              "    }\n",
              "\n",
              "    .dataframe tbody tr th {\n",
              "        vertical-align: top;\n",
              "    }\n",
              "\n",
              "    .dataframe thead th {\n",
              "        text-align: right;\n",
              "    }\n",
              "</style>\n",
              "<table border=\"1\" class=\"dataframe\">\n",
              "  <thead>\n",
              "    <tr style=\"text-align: right;\">\n",
              "      <th></th>\n",
              "      <th>date</th>\n",
              "      <th>datatype</th>\n",
              "      <th>station</th>\n",
              "      <th>attributes</th>\n",
              "      <th>value</th>\n",
              "    </tr>\n",
              "  </thead>\n",
              "  <tbody>\n",
              "    <tr>\n",
              "      <th>0</th>\n",
              "      <td>2018-10-01T00:00:00</td>\n",
              "      <td>TAVG</td>\n",
              "      <td>GHCND:USW00014732</td>\n",
              "      <td>H,,S,</td>\n",
              "      <td>21.2</td>\n",
              "    </tr>\n",
              "    <tr>\n",
              "      <th>1</th>\n",
              "      <td>2018-10-01T00:00:00</td>\n",
              "      <td>TMAX</td>\n",
              "      <td>GHCND:USW00014732</td>\n",
              "      <td>,,W,2400</td>\n",
              "      <td>25.6</td>\n",
              "    </tr>\n",
              "    <tr>\n",
              "      <th>2</th>\n",
              "      <td>2018-10-01T00:00:00</td>\n",
              "      <td>TMIN</td>\n",
              "      <td>GHCND:USW00014732</td>\n",
              "      <td>,,W,2400</td>\n",
              "      <td>18.3</td>\n",
              "    </tr>\n",
              "    <tr>\n",
              "      <th>3</th>\n",
              "      <td>2018-10-02T00:00:00</td>\n",
              "      <td>TAVG</td>\n",
              "      <td>GHCND:USW00014732</td>\n",
              "      <td>H,,S,</td>\n",
              "      <td>22.7</td>\n",
              "    </tr>\n",
              "    <tr>\n",
              "      <th>4</th>\n",
              "      <td>2018-10-02T00:00:00</td>\n",
              "      <td>TMAX</td>\n",
              "      <td>GHCND:USW00014732</td>\n",
              "      <td>,,W,2400</td>\n",
              "      <td>26.1</td>\n",
              "    </tr>\n",
              "  </tbody>\n",
              "</table>\n",
              "</div>\n",
              "    <div class=\"colab-df-buttons\">\n",
              "\n",
              "  <div class=\"colab-df-container\">\n",
              "    <button class=\"colab-df-convert\" onclick=\"convertToInteractive('df-cdc19b20-1d28-45cd-a11e-e4b6b97313cd')\"\n",
              "            title=\"Convert this dataframe to an interactive table.\"\n",
              "            style=\"display:none;\">\n",
              "\n",
              "  <svg xmlns=\"http://www.w3.org/2000/svg\" height=\"24px\" viewBox=\"0 -960 960 960\">\n",
              "    <path d=\"M120-120v-720h720v720H120Zm60-500h600v-160H180v160Zm220 220h160v-160H400v160Zm0 220h160v-160H400v160ZM180-400h160v-160H180v160Zm440 0h160v-160H620v160ZM180-180h160v-160H180v160Zm440 0h160v-160H620v160Z\"/>\n",
              "  </svg>\n",
              "    </button>\n",
              "\n",
              "  <style>\n",
              "    .colab-df-container {\n",
              "      display:flex;\n",
              "      gap: 12px;\n",
              "    }\n",
              "\n",
              "    .colab-df-convert {\n",
              "      background-color: #E8F0FE;\n",
              "      border: none;\n",
              "      border-radius: 50%;\n",
              "      cursor: pointer;\n",
              "      display: none;\n",
              "      fill: #1967D2;\n",
              "      height: 32px;\n",
              "      padding: 0 0 0 0;\n",
              "      width: 32px;\n",
              "    }\n",
              "\n",
              "    .colab-df-convert:hover {\n",
              "      background-color: #E2EBFA;\n",
              "      box-shadow: 0px 1px 2px rgba(60, 64, 67, 0.3), 0px 1px 3px 1px rgba(60, 64, 67, 0.15);\n",
              "      fill: #174EA6;\n",
              "    }\n",
              "\n",
              "    .colab-df-buttons div {\n",
              "      margin-bottom: 4px;\n",
              "    }\n",
              "\n",
              "    [theme=dark] .colab-df-convert {\n",
              "      background-color: #3B4455;\n",
              "      fill: #D2E3FC;\n",
              "    }\n",
              "\n",
              "    [theme=dark] .colab-df-convert:hover {\n",
              "      background-color: #434B5C;\n",
              "      box-shadow: 0px 1px 3px 1px rgba(0, 0, 0, 0.15);\n",
              "      filter: drop-shadow(0px 1px 2px rgba(0, 0, 0, 0.3));\n",
              "      fill: #FFFFFF;\n",
              "    }\n",
              "  </style>\n",
              "\n",
              "    <script>\n",
              "      const buttonEl =\n",
              "        document.querySelector('#df-cdc19b20-1d28-45cd-a11e-e4b6b97313cd button.colab-df-convert');\n",
              "      buttonEl.style.display =\n",
              "        google.colab.kernel.accessAllowed ? 'block' : 'none';\n",
              "\n",
              "      async function convertToInteractive(key) {\n",
              "        const element = document.querySelector('#df-cdc19b20-1d28-45cd-a11e-e4b6b97313cd');\n",
              "        const dataTable =\n",
              "          await google.colab.kernel.invokeFunction('convertToInteractive',\n",
              "                                                    [key], {});\n",
              "        if (!dataTable) return;\n",
              "\n",
              "        const docLinkHtml = 'Like what you see? Visit the ' +\n",
              "          '<a target=\"_blank\" href=https://colab.research.google.com/notebooks/data_table.ipynb>data table notebook</a>'\n",
              "          + ' to learn more about interactive tables.';\n",
              "        element.innerHTML = '';\n",
              "        dataTable['output_type'] = 'display_data';\n",
              "        await google.colab.output.renderOutput(dataTable, element);\n",
              "        const docLink = document.createElement('div');\n",
              "        docLink.innerHTML = docLinkHtml;\n",
              "        element.appendChild(docLink);\n",
              "      }\n",
              "    </script>\n",
              "  </div>\n",
              "\n",
              "\n",
              "<div id=\"df-bf7427d7-976a-40fe-a028-44993e7ab66e\">\n",
              "  <button class=\"colab-df-quickchart\" onclick=\"quickchart('df-bf7427d7-976a-40fe-a028-44993e7ab66e')\"\n",
              "            title=\"Suggest charts\"\n",
              "            style=\"display:none;\">\n",
              "\n",
              "<svg xmlns=\"http://www.w3.org/2000/svg\" height=\"24px\"viewBox=\"0 0 24 24\"\n",
              "     width=\"24px\">\n",
              "    <g>\n",
              "        <path d=\"M19 3H5c-1.1 0-2 .9-2 2v14c0 1.1.9 2 2 2h14c1.1 0 2-.9 2-2V5c0-1.1-.9-2-2-2zM9 17H7v-7h2v7zm4 0h-2V7h2v10zm4 0h-2v-4h2v4z\"/>\n",
              "    </g>\n",
              "</svg>\n",
              "  </button>\n",
              "\n",
              "<style>\n",
              "  .colab-df-quickchart {\n",
              "      --bg-color: #E8F0FE;\n",
              "      --fill-color: #1967D2;\n",
              "      --hover-bg-color: #E2EBFA;\n",
              "      --hover-fill-color: #174EA6;\n",
              "      --disabled-fill-color: #AAA;\n",
              "      --disabled-bg-color: #DDD;\n",
              "  }\n",
              "\n",
              "  [theme=dark] .colab-df-quickchart {\n",
              "      --bg-color: #3B4455;\n",
              "      --fill-color: #D2E3FC;\n",
              "      --hover-bg-color: #434B5C;\n",
              "      --hover-fill-color: #FFFFFF;\n",
              "      --disabled-bg-color: #3B4455;\n",
              "      --disabled-fill-color: #666;\n",
              "  }\n",
              "\n",
              "  .colab-df-quickchart {\n",
              "    background-color: var(--bg-color);\n",
              "    border: none;\n",
              "    border-radius: 50%;\n",
              "    cursor: pointer;\n",
              "    display: none;\n",
              "    fill: var(--fill-color);\n",
              "    height: 32px;\n",
              "    padding: 0;\n",
              "    width: 32px;\n",
              "  }\n",
              "\n",
              "  .colab-df-quickchart:hover {\n",
              "    background-color: var(--hover-bg-color);\n",
              "    box-shadow: 0 1px 2px rgba(60, 64, 67, 0.3), 0 1px 3px 1px rgba(60, 64, 67, 0.15);\n",
              "    fill: var(--button-hover-fill-color);\n",
              "  }\n",
              "\n",
              "  .colab-df-quickchart-complete:disabled,\n",
              "  .colab-df-quickchart-complete:disabled:hover {\n",
              "    background-color: var(--disabled-bg-color);\n",
              "    fill: var(--disabled-fill-color);\n",
              "    box-shadow: none;\n",
              "  }\n",
              "\n",
              "  .colab-df-spinner {\n",
              "    border: 2px solid var(--fill-color);\n",
              "    border-color: transparent;\n",
              "    border-bottom-color: var(--fill-color);\n",
              "    animation:\n",
              "      spin 1s steps(1) infinite;\n",
              "  }\n",
              "\n",
              "  @keyframes spin {\n",
              "    0% {\n",
              "      border-color: transparent;\n",
              "      border-bottom-color: var(--fill-color);\n",
              "      border-left-color: var(--fill-color);\n",
              "    }\n",
              "    20% {\n",
              "      border-color: transparent;\n",
              "      border-left-color: var(--fill-color);\n",
              "      border-top-color: var(--fill-color);\n",
              "    }\n",
              "    30% {\n",
              "      border-color: transparent;\n",
              "      border-left-color: var(--fill-color);\n",
              "      border-top-color: var(--fill-color);\n",
              "      border-right-color: var(--fill-color);\n",
              "    }\n",
              "    40% {\n",
              "      border-color: transparent;\n",
              "      border-right-color: var(--fill-color);\n",
              "      border-top-color: var(--fill-color);\n",
              "    }\n",
              "    60% {\n",
              "      border-color: transparent;\n",
              "      border-right-color: var(--fill-color);\n",
              "    }\n",
              "    80% {\n",
              "      border-color: transparent;\n",
              "      border-right-color: var(--fill-color);\n",
              "      border-bottom-color: var(--fill-color);\n",
              "    }\n",
              "    90% {\n",
              "      border-color: transparent;\n",
              "      border-bottom-color: var(--fill-color);\n",
              "    }\n",
              "  }\n",
              "</style>\n",
              "\n",
              "  <script>\n",
              "    async function quickchart(key) {\n",
              "      const quickchartButtonEl =\n",
              "        document.querySelector('#' + key + ' button');\n",
              "      quickchartButtonEl.disabled = true;  // To prevent multiple clicks.\n",
              "      quickchartButtonEl.classList.add('colab-df-spinner');\n",
              "      try {\n",
              "        const charts = await google.colab.kernel.invokeFunction(\n",
              "            'suggestCharts', [key], {});\n",
              "      } catch (error) {\n",
              "        console.error('Error during call to suggestCharts:', error);\n",
              "      }\n",
              "      quickchartButtonEl.classList.remove('colab-df-spinner');\n",
              "      quickchartButtonEl.classList.add('colab-df-quickchart-complete');\n",
              "    }\n",
              "    (() => {\n",
              "      let quickchartButtonEl =\n",
              "        document.querySelector('#df-bf7427d7-976a-40fe-a028-44993e7ab66e button');\n",
              "      quickchartButtonEl.style.display =\n",
              "        google.colab.kernel.accessAllowed ? 'block' : 'none';\n",
              "    })();\n",
              "  </script>\n",
              "</div>\n",
              "    </div>\n",
              "  </div>\n"
            ],
            "application/vnd.google.colaboratory.intrinsic+json": {
              "type": "dataframe",
              "variable_name": "df",
              "summary": "{\n  \"name\": \"df\",\n  \"rows\": 93,\n  \"fields\": [\n    {\n      \"column\": \"date\",\n      \"properties\": {\n        \"dtype\": \"object\",\n        \"num_unique_values\": 31,\n        \"samples\": [\n          \"2018-10-28T00:00:00\",\n          \"2018-10-16T00:00:00\",\n          \"2018-10-24T00:00:00\"\n        ],\n        \"semantic_type\": \"\",\n        \"description\": \"\"\n      }\n    },\n    {\n      \"column\": \"datatype\",\n      \"properties\": {\n        \"dtype\": \"category\",\n        \"num_unique_values\": 3,\n        \"samples\": [\n          \"TAVG\",\n          \"TMAX\",\n          \"TMIN\"\n        ],\n        \"semantic_type\": \"\",\n        \"description\": \"\"\n      }\n    },\n    {\n      \"column\": \"station\",\n      \"properties\": {\n        \"dtype\": \"category\",\n        \"num_unique_values\": 1,\n        \"samples\": [\n          \"GHCND:USW00014732\"\n        ],\n        \"semantic_type\": \"\",\n        \"description\": \"\"\n      }\n    },\n    {\n      \"column\": \"attributes\",\n      \"properties\": {\n        \"dtype\": \"category\",\n        \"num_unique_values\": 2,\n        \"samples\": [\n          \",,W,2400\"\n        ],\n        \"semantic_type\": \"\",\n        \"description\": \"\"\n      }\n    },\n    {\n      \"column\": \"value\",\n      \"properties\": {\n        \"dtype\": \"number\",\n        \"std\": 6.133703326950107,\n        \"min\": 5.6,\n        \"max\": 27.8,\n        \"num_unique_values\": 57,\n        \"samples\": [\n          21.2\n        ],\n        \"semantic_type\": \"\",\n        \"description\": \"\"\n      }\n    }\n  ]\n}"
            }
          },
          "metadata": {},
          "execution_count": 51
        }
      ]
    },
    {
      "cell_type": "code",
      "source": [
        "df.datatype.value_counts()"
      ],
      "metadata": {
        "id": "jJUrJl73V3d3",
        "outputId": "a2a902eb-32be-41f8-dfbb-ff737b640bad",
        "colab": {
          "base_uri": "https://localhost:8080/"
        }
      },
      "execution_count": 52,
      "outputs": [
        {
          "output_type": "execute_result",
          "data": {
            "text/plain": [
              "TAVG    31\n",
              "TMAX    31\n",
              "TMIN    31\n",
              "Name: datatype, dtype: int64"
            ]
          },
          "metadata": {},
          "execution_count": 52
        }
      ]
    },
    {
      "cell_type": "code",
      "source": [
        "df.to_csv('nyc_temperatures.csv', index=False)"
      ],
      "metadata": {
        "id": "zVHRfOieV5y9"
      },
      "execution_count": 54,
      "outputs": []
    }
  ]
}