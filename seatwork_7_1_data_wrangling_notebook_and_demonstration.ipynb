{
  "nbformat": 4,
  "nbformat_minor": 0,
  "metadata": {
    "colab": {
      "provenance": [],
      "authorship_tag": "ABX9TyORAGpfvIf7Ej/R8eRJpL85",
      "include_colab_link": true
    },
    "kernelspec": {
      "name": "python3",
      "display_name": "Python 3"
    },
    "language_info": {
      "name": "python"
    }
  },
  "cells": [
    {
      "cell_type": "markdown",
      "metadata": {
        "id": "view-in-github",
        "colab_type": "text"
      },
      "source": [
        "<a href=\"https://colab.research.google.com/github/johnadornado/CPE-311/blob/main/seatwork_7_1_data_wrangling_notebook_and_demonstration.ipynb\" target=\"_parent\"><img src=\"https://colab.research.google.com/assets/colab-badge.svg\" alt=\"Open In Colab\"/></a>"
      ]
    },
    {
      "cell_type": "markdown",
      "source": [
        "#Collecting temperature data from an API <br>\n",
        "About the data\n",
        "In this notebook, we will be collecting daily temperature data from the National Centers for Environmental Information (NCEI) API. We will use the Global Historical Climatology\n",
        "Network - Daily (GHCND) data set; see the documentation here.\n",
        "Note: The NCEI is part of the National Oceanic and Atmospheric Administration (NOAA) and, as you can see from the URL for the API, this resource was created when the\n",
        "NCEI was called the NCDC. Should the URL for this resource change in the future, you can search for the NCEI weather API to find the updated one.\n",
        "\n"
      ],
      "metadata": {
        "id": "SVb8WtnG-c8Q"
      }
    },
    {
      "cell_type": "code",
      "execution_count": null,
      "metadata": {
        "id": "7gjx021w-bGO"
      },
      "outputs": [],
      "source": [
        "import requests\n",
        "def make_request(endpoint, payload=None):\n",
        "\"\"\"\n",
        "Make a request to a specific endpoint on the weather API\n",
        "passing headers and optional payload.\n",
        "Parameters:\n",
        "- endpoint: The endpoint of the API you want to\n",
        "make a GET request to.\n",
        "- payload: A dictionary of data to pass along\n",
        "with the request.\n",
        "Returns:\n",
        "Response object.\n",
        "\"\"\"\n",
        "return requests.get(\n",
        "f'https://www.ncdc.noaa.gov/cdo-web/api/v2/{endpoint}',\n",
        "headers={\n",
        "'token': 'PASTE_YOUR_TOKEN_HERE'\n",
        "},\n",
        "params=payload\n",
        ")\n"
      ]
    }
  ]
}