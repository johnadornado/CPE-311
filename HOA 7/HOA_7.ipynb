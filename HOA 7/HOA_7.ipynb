{
  "nbformat": 4,
  "nbformat_minor": 0,
  "metadata": {
    "colab": {
      "provenance": []
    },
    "kernelspec": {
      "name": "python3",
      "display_name": "Python 3"
    },
    "language_info": {
      "name": "python"
    }
  },
  "cells": [
    {
      "cell_type": "markdown",
      "source": [
        "##Hands-on Activity 7.1 Data Collection and Wrangling\n",
        "\n",
        "Intended Learning Outcomes:\n",
        "\n",
        "Demonstrate how to gather sensor data, image data and voice data <br>\n",
        "Demonstrate how to gather data (text and images) from web<br>\n",
        "Demonstrate how to prepare data using different data preprocessing techniques<br>\n",
        "\n",
        "Resources:\n",
        "\n",
        "Personal Computer<br>\n",
        "Jupyter Notebook<br>\n",
        "Internet Connection<br>\n",
        "\n",
        "Instruction:\n",
        "\n",
        "Download the following datasets:  <br>Download aapl.csv, amzn.csv <br>Download amzn.csv, fb.csv <br>Download fb.csv, goog.csv <br>Download goog.csv, nflx.csv Download nflx.csv <br>\n",
        "Accomplish the notebook for this activity and submit as a pdf file: Data Wrangling HOA.pdf"
      ],
      "metadata": {
        "id": "rU6Z7yBEdtdN"
      }
    },
    {
      "cell_type": "code",
      "execution_count": null,
      "metadata": {
        "id": "q3zYnR4Ddfhn"
      },
      "outputs": [],
      "source": []
    }
  ]
}