{
  "nbformat": 4,
  "nbformat_minor": 0,
  "metadata": {
    "colab": {
      "provenance": [],
      "authorship_tag": "ABX9TyMv7tMj+Cs3qVFwnfB1BZCj",
      "include_colab_link": true
    },
    "kernelspec": {
      "name": "python3",
      "display_name": "Python 3"
    },
    "language_info": {
      "name": "python"
    }
  },
  "cells": [
    {
      "cell_type": "markdown",
      "metadata": {
        "id": "view-in-github",
        "colab_type": "text"
      },
      "source": [
        "<a href=\"https://colab.research.google.com/github/johnadornado/CPE-311/blob/main/Hands_on_Activity_9_2_Customized_Visualizations_using_Seaborn.ipynb\" target=\"_parent\"><img src=\"https://colab.research.google.com/assets/colab-badge.svg\" alt=\"Open In Colab\"/></a>"
      ]
    },
    {
      "cell_type": "markdown",
      "source": [
        "### Instructions:\n",
        "\n",
        "Create a Python notebook to answer all shown procedures, exercises, and analysis in this section.\n",
        "\n",
        "**Resources:**\n",
        "\n",
        "- Download the following datasets:\n",
        "  - [fb_stock_prices_2018.csv](link_to_dataset)\n",
        "  - [earthquakes-1.csv](link_to_dataset)\n",
        "\n",
        "### Procedures:\n",
        "\n",
        "- **9.4 Introduction to Seaborn**\n",
        "- **9.5 Formatting Plots**\n",
        "- **9.6 Customizing Visualizations**\n",
        "\n",
        "### Data Analysis:\n",
        "\n",
        "Provide comments on the output from the procedures.\n",
        "\n",
        "### Supplementary Activity:\n",
        "\n",
        "Using the CSV files provided and what we have learned so far in this module, complete the following exercises:\n",
        "\n",
        "1. Using seaborn, create a heatmap to visualize the correlation coefficients between earthquake magnitude and whether there was a tsunami with the magType of mb.\n",
        "2. Create a box plot of Facebook volume traded and closing prices, and draw reference lines for the bounds of a Tukey fence with a multiplier of 1.5. The bounds will be at Q1 - 1.5 * IQR and Q3 + 1.5 * IQR. Be sure to use the quantile() method on the data to make this easier. (Pick whichever orientation you prefer for the plot, but make sure to use subplots.)\n",
        "3. Fill in the area between the bounds in the plot from exercise #2.\n",
        "4. Use axvspan() to shade a rectangle from '2018-07-25' to '2018-07-31', which marks the large decline in Facebook price on a line plot of the closing price.\n",
        "5. Using the Facebook stock price data, annotate the following three events on a line plot of the closing price:\n",
        "   - Disappointing user growth announced after close on July 25, 2018\n",
        "   - Cambridge Analytica story breaks on March 19, 2018 (when it affected the market)\n",
        "   - FTC launches investigation on March 20, 2018\n",
        "6. Modify the reg_resid_plots() function to use a matplotlib colormap instead of cycling between two colors. Remember, for this use case, we should pick a qualitative colormap or make our own.\n",
        "\n",
        "### Summary/Conclusion:\n",
        "\n",
        "Provide a summary of your learnings and the conclusion for this activity.\n"
      ],
      "metadata": {
        "id": "D-8flyMVBHp9"
      }
    },
    {
      "cell_type": "code",
      "execution_count": null,
      "metadata": {
        "id": "sa5u6es2AnQ-"
      },
      "outputs": [],
      "source": []
    }
  ]
}